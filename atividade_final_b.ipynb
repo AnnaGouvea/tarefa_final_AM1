{
 "cells": [
  {
   "cell_type": "code",
   "execution_count": 14,
   "metadata": {
    "id": "O7Tj0acsZStX"
   },
   "outputs": [
    {
     "name": "stdout",
     "output_type": "stream",
     "text": [
      "Matplot version : 3.1.3\n",
      "Numpy version : 1.18.1\n",
      "Pandas version : 1.0.1\n",
      "Sklearn version : 0.22.1\n"
     ]
    }
   ],
   "source": [
    "# Bibliotecas:\n",
    "import numpy as np\n",
    "import matplotlib.pyplot as plt\n",
    "import pandas as pd\n",
    "import seaborn as sns\n",
    "import sklearn\n",
    "import matplotlib as mpl\n",
    "\n",
    "# Para Git:\n",
    "import joblib\n",
    "import os\n",
    "import urllib\n",
    "\n",
    "print('Matplot version : {}'.format(mpl.__version__))\n",
    "print('Numpy version : {}'.format(np.__version__))\n",
    "print('Pandas version : {}'.format(pd.__version__))\n",
    "print('Sklearn version : {}'.format(sklearn.__version__))\n",
    "\n",
    "DATA_ROOT ='https://archive.ics.uci.edu/ml/machine-learning-databases/heart-disease/'\n",
    "DATA_PATH = os.path.join('data', 'raw')\n",
    "DATA_URL = DATA_ROOT + 'processed.cleveland.data' \n",
    "\n",
    "DATA_FILE = 'processed.cleveland.csv'\n",
    "DATA_DATA = os.path.join(DATA_PATH, DATA_FILE)\n",
    "\n"
   ]
  },
  {
   "cell_type": "code",
   "execution_count": 16,
   "metadata": {},
   "outputs": [],
   "source": [
    "def download_data(data_url, data_path, data_file):\n",
    "    os.makedirs(data_path, exist_ok=True)\n",
    "    local_path = os.path.join(data_path, data_file)\n",
    "    urllib.request.urlretrieve(data_url, local_path)\n",
    "    \n",
    "download_data(DATA_URL, DATA_PATH, DATA_FILE)\n",
    "\n",
    "\n",
    "\n",
    "def load_data(data_path, data_file):\n",
    "    local_path = os.path.join(data_path, data_file)\n",
    "    return pd.read_csv(local_path)\n",
    "\n",
    "data_df = load_data(DATA_PATH, DATA_FILE)"
   ]
  },
  {
   "cell_type": "markdown",
   "metadata": {
    "id": "orvpfB4IOB2K"
   },
   "source": [
    "# Análise Exploratória:"
   ]
  },
  {
   "cell_type": "code",
   "execution_count": 17,
   "metadata": {
    "id": "Fj5QtU2ban-1"
   },
   "outputs": [],
   "source": [
    "#data_df = pd.read_csv('/content/processed.cleveland.csv')\n",
    "dat_df = pd.DataFrame(data_df)"
   ]
  },
  {
   "cell_type": "code",
   "execution_count": 18,
   "metadata": {
    "colab": {
     "base_uri": "https://localhost:8080/",
     "height": 204
    },
    "id": "y68tdO1Nbru9",
    "outputId": "2f135020-8b22-4b93-e721-24cb188ef6ae"
   },
   "outputs": [
    {
     "data": {
      "text/html": [
       "<div>\n",
       "<style scoped>\n",
       "    .dataframe tbody tr th:only-of-type {\n",
       "        vertical-align: middle;\n",
       "    }\n",
       "\n",
       "    .dataframe tbody tr th {\n",
       "        vertical-align: top;\n",
       "    }\n",
       "\n",
       "    .dataframe thead th {\n",
       "        text-align: right;\n",
       "    }\n",
       "</style>\n",
       "<table border=\"1\" class=\"dataframe\">\n",
       "  <thead>\n",
       "    <tr style=\"text-align: right;\">\n",
       "      <th></th>\n",
       "      <th>63.0</th>\n",
       "      <th>1.0</th>\n",
       "      <th>1.0.1</th>\n",
       "      <th>145.0</th>\n",
       "      <th>233.0</th>\n",
       "      <th>1.0.2</th>\n",
       "      <th>2.0</th>\n",
       "      <th>150.0</th>\n",
       "      <th>0.0</th>\n",
       "      <th>2.3</th>\n",
       "      <th>3.0</th>\n",
       "      <th>0.0.1</th>\n",
       "      <th>6.0</th>\n",
       "      <th>0</th>\n",
       "    </tr>\n",
       "  </thead>\n",
       "  <tbody>\n",
       "    <tr>\n",
       "      <th>0</th>\n",
       "      <td>67.0</td>\n",
       "      <td>1.0</td>\n",
       "      <td>4.0</td>\n",
       "      <td>160.0</td>\n",
       "      <td>286.0</td>\n",
       "      <td>0.0</td>\n",
       "      <td>2.0</td>\n",
       "      <td>108.0</td>\n",
       "      <td>1.0</td>\n",
       "      <td>1.5</td>\n",
       "      <td>2.0</td>\n",
       "      <td>3.0</td>\n",
       "      <td>3.0</td>\n",
       "      <td>2</td>\n",
       "    </tr>\n",
       "    <tr>\n",
       "      <th>1</th>\n",
       "      <td>67.0</td>\n",
       "      <td>1.0</td>\n",
       "      <td>4.0</td>\n",
       "      <td>120.0</td>\n",
       "      <td>229.0</td>\n",
       "      <td>0.0</td>\n",
       "      <td>2.0</td>\n",
       "      <td>129.0</td>\n",
       "      <td>1.0</td>\n",
       "      <td>2.6</td>\n",
       "      <td>2.0</td>\n",
       "      <td>2.0</td>\n",
       "      <td>7.0</td>\n",
       "      <td>1</td>\n",
       "    </tr>\n",
       "    <tr>\n",
       "      <th>2</th>\n",
       "      <td>37.0</td>\n",
       "      <td>1.0</td>\n",
       "      <td>3.0</td>\n",
       "      <td>130.0</td>\n",
       "      <td>250.0</td>\n",
       "      <td>0.0</td>\n",
       "      <td>0.0</td>\n",
       "      <td>187.0</td>\n",
       "      <td>0.0</td>\n",
       "      <td>3.5</td>\n",
       "      <td>3.0</td>\n",
       "      <td>0.0</td>\n",
       "      <td>3.0</td>\n",
       "      <td>0</td>\n",
       "    </tr>\n",
       "    <tr>\n",
       "      <th>3</th>\n",
       "      <td>41.0</td>\n",
       "      <td>0.0</td>\n",
       "      <td>2.0</td>\n",
       "      <td>130.0</td>\n",
       "      <td>204.0</td>\n",
       "      <td>0.0</td>\n",
       "      <td>2.0</td>\n",
       "      <td>172.0</td>\n",
       "      <td>0.0</td>\n",
       "      <td>1.4</td>\n",
       "      <td>1.0</td>\n",
       "      <td>0.0</td>\n",
       "      <td>3.0</td>\n",
       "      <td>0</td>\n",
       "    </tr>\n",
       "    <tr>\n",
       "      <th>4</th>\n",
       "      <td>56.0</td>\n",
       "      <td>1.0</td>\n",
       "      <td>2.0</td>\n",
       "      <td>120.0</td>\n",
       "      <td>236.0</td>\n",
       "      <td>0.0</td>\n",
       "      <td>0.0</td>\n",
       "      <td>178.0</td>\n",
       "      <td>0.0</td>\n",
       "      <td>0.8</td>\n",
       "      <td>1.0</td>\n",
       "      <td>0.0</td>\n",
       "      <td>3.0</td>\n",
       "      <td>0</td>\n",
       "    </tr>\n",
       "  </tbody>\n",
       "</table>\n",
       "</div>"
      ],
      "text/plain": [
       "   63.0  1.0  1.0.1  145.0  233.0  1.0.2  2.0  150.0  0.0  2.3  3.0 0.0.1  \\\n",
       "0  67.0  1.0    4.0  160.0  286.0    0.0  2.0  108.0  1.0  1.5  2.0   3.0   \n",
       "1  67.0  1.0    4.0  120.0  229.0    0.0  2.0  129.0  1.0  2.6  2.0   2.0   \n",
       "2  37.0  1.0    3.0  130.0  250.0    0.0  0.0  187.0  0.0  3.5  3.0   0.0   \n",
       "3  41.0  0.0    2.0  130.0  204.0    0.0  2.0  172.0  0.0  1.4  1.0   0.0   \n",
       "4  56.0  1.0    2.0  120.0  236.0    0.0  0.0  178.0  0.0  0.8  1.0   0.0   \n",
       "\n",
       "   6.0  0  \n",
       "0  3.0  2  \n",
       "1  7.0  1  \n",
       "2  3.0  0  \n",
       "3  3.0  0  \n",
       "4  3.0  0  "
      ]
     },
     "execution_count": 18,
     "metadata": {},
     "output_type": "execute_result"
    }
   ],
   "source": [
    "dat_df.head()"
   ]
  },
  {
   "cell_type": "code",
   "execution_count": 19,
   "metadata": {
    "id": "_CVIxLQ-ga8n"
   },
   "outputs": [],
   "source": [
    "dat_df.columns = ['idade', 'sexo', 'dor', 'pressão_sanguinea', 'colesterol', 'glicose',\n",
    "             'ecg_em_repouso', 'freq_card_max', 'dor_causada_exer', 'oldpeak',\n",
    "             'slope_peak_exercise', 'major_vessels', 'thal', 'diagnostico']"
   ]
  },
  {
   "cell_type": "code",
   "execution_count": 20,
   "metadata": {
    "colab": {
     "base_uri": "https://localhost:8080/",
     "height": 224
    },
    "id": "uS6fbIRPgZgg",
    "outputId": "e7d47860-b19e-4800-87c2-535c1e53d312"
   },
   "outputs": [
    {
     "data": {
      "text/html": [
       "<div>\n",
       "<style scoped>\n",
       "    .dataframe tbody tr th:only-of-type {\n",
       "        vertical-align: middle;\n",
       "    }\n",
       "\n",
       "    .dataframe tbody tr th {\n",
       "        vertical-align: top;\n",
       "    }\n",
       "\n",
       "    .dataframe thead th {\n",
       "        text-align: right;\n",
       "    }\n",
       "</style>\n",
       "<table border=\"1\" class=\"dataframe\">\n",
       "  <thead>\n",
       "    <tr style=\"text-align: right;\">\n",
       "      <th></th>\n",
       "      <th>idade</th>\n",
       "      <th>sexo</th>\n",
       "      <th>dor</th>\n",
       "      <th>pressão_sanguinea</th>\n",
       "      <th>colesterol</th>\n",
       "      <th>glicose</th>\n",
       "      <th>ecg_em_repouso</th>\n",
       "      <th>freq_card_max</th>\n",
       "      <th>dor_causada_exer</th>\n",
       "      <th>oldpeak</th>\n",
       "      <th>slope_peak_exercise</th>\n",
       "      <th>major_vessels</th>\n",
       "      <th>thal</th>\n",
       "      <th>diagnostico</th>\n",
       "    </tr>\n",
       "  </thead>\n",
       "  <tbody>\n",
       "    <tr>\n",
       "      <th>0</th>\n",
       "      <td>67.0</td>\n",
       "      <td>1.0</td>\n",
       "      <td>4.0</td>\n",
       "      <td>160.0</td>\n",
       "      <td>286.0</td>\n",
       "      <td>0.0</td>\n",
       "      <td>2.0</td>\n",
       "      <td>108.0</td>\n",
       "      <td>1.0</td>\n",
       "      <td>1.5</td>\n",
       "      <td>2.0</td>\n",
       "      <td>3.0</td>\n",
       "      <td>3.0</td>\n",
       "      <td>2</td>\n",
       "    </tr>\n",
       "    <tr>\n",
       "      <th>1</th>\n",
       "      <td>67.0</td>\n",
       "      <td>1.0</td>\n",
       "      <td>4.0</td>\n",
       "      <td>120.0</td>\n",
       "      <td>229.0</td>\n",
       "      <td>0.0</td>\n",
       "      <td>2.0</td>\n",
       "      <td>129.0</td>\n",
       "      <td>1.0</td>\n",
       "      <td>2.6</td>\n",
       "      <td>2.0</td>\n",
       "      <td>2.0</td>\n",
       "      <td>7.0</td>\n",
       "      <td>1</td>\n",
       "    </tr>\n",
       "    <tr>\n",
       "      <th>2</th>\n",
       "      <td>37.0</td>\n",
       "      <td>1.0</td>\n",
       "      <td>3.0</td>\n",
       "      <td>130.0</td>\n",
       "      <td>250.0</td>\n",
       "      <td>0.0</td>\n",
       "      <td>0.0</td>\n",
       "      <td>187.0</td>\n",
       "      <td>0.0</td>\n",
       "      <td>3.5</td>\n",
       "      <td>3.0</td>\n",
       "      <td>0.0</td>\n",
       "      <td>3.0</td>\n",
       "      <td>0</td>\n",
       "    </tr>\n",
       "    <tr>\n",
       "      <th>3</th>\n",
       "      <td>41.0</td>\n",
       "      <td>0.0</td>\n",
       "      <td>2.0</td>\n",
       "      <td>130.0</td>\n",
       "      <td>204.0</td>\n",
       "      <td>0.0</td>\n",
       "      <td>2.0</td>\n",
       "      <td>172.0</td>\n",
       "      <td>0.0</td>\n",
       "      <td>1.4</td>\n",
       "      <td>1.0</td>\n",
       "      <td>0.0</td>\n",
       "      <td>3.0</td>\n",
       "      <td>0</td>\n",
       "    </tr>\n",
       "    <tr>\n",
       "      <th>4</th>\n",
       "      <td>56.0</td>\n",
       "      <td>1.0</td>\n",
       "      <td>2.0</td>\n",
       "      <td>120.0</td>\n",
       "      <td>236.0</td>\n",
       "      <td>0.0</td>\n",
       "      <td>0.0</td>\n",
       "      <td>178.0</td>\n",
       "      <td>0.0</td>\n",
       "      <td>0.8</td>\n",
       "      <td>1.0</td>\n",
       "      <td>0.0</td>\n",
       "      <td>3.0</td>\n",
       "      <td>0</td>\n",
       "    </tr>\n",
       "  </tbody>\n",
       "</table>\n",
       "</div>"
      ],
      "text/plain": [
       "   idade  sexo  dor  pressão_sanguinea  colesterol  glicose  ecg_em_repouso  \\\n",
       "0   67.0   1.0  4.0              160.0       286.0      0.0             2.0   \n",
       "1   67.0   1.0  4.0              120.0       229.0      0.0             2.0   \n",
       "2   37.0   1.0  3.0              130.0       250.0      0.0             0.0   \n",
       "3   41.0   0.0  2.0              130.0       204.0      0.0             2.0   \n",
       "4   56.0   1.0  2.0              120.0       236.0      0.0             0.0   \n",
       "\n",
       "   freq_card_max  dor_causada_exer  oldpeak  slope_peak_exercise  \\\n",
       "0          108.0               1.0      1.5                  2.0   \n",
       "1          129.0               1.0      2.6                  2.0   \n",
       "2          187.0               0.0      3.5                  3.0   \n",
       "3          172.0               0.0      1.4                  1.0   \n",
       "4          178.0               0.0      0.8                  1.0   \n",
       "\n",
       "  major_vessels thal  diagnostico  \n",
       "0           3.0  3.0            2  \n",
       "1           2.0  7.0            1  \n",
       "2           0.0  3.0            0  \n",
       "3           0.0  3.0            0  \n",
       "4           0.0  3.0            0  "
      ]
     },
     "execution_count": 20,
     "metadata": {},
     "output_type": "execute_result"
    }
   ],
   "source": [
    "dat_df.head()"
   ]
  },
  {
   "cell_type": "code",
   "execution_count": 8,
   "metadata": {
    "colab": {
     "base_uri": "https://localhost:8080/",
     "height": 317
    },
    "id": "YcaaTyFyh1Kj",
    "outputId": "8107bd0e-2020-4304-c9b3-aade6da4c645"
   },
   "outputs": [
    {
     "data": {
      "text/html": [
       "<div>\n",
       "<style scoped>\n",
       "    .dataframe tbody tr th:only-of-type {\n",
       "        vertical-align: middle;\n",
       "    }\n",
       "\n",
       "    .dataframe tbody tr th {\n",
       "        vertical-align: top;\n",
       "    }\n",
       "\n",
       "    .dataframe thead th {\n",
       "        text-align: right;\n",
       "    }\n",
       "</style>\n",
       "<table border=\"1\" class=\"dataframe\">\n",
       "  <thead>\n",
       "    <tr style=\"text-align: right;\">\n",
       "      <th></th>\n",
       "      <th>idade</th>\n",
       "      <th>sexo</th>\n",
       "      <th>dor</th>\n",
       "      <th>pressão_sanguinea</th>\n",
       "      <th>colesterol</th>\n",
       "      <th>glicose</th>\n",
       "      <th>ecg_em_repouso</th>\n",
       "      <th>freq_card_max</th>\n",
       "      <th>dor_causada_exer</th>\n",
       "      <th>oldpeak</th>\n",
       "      <th>slope_peak_exercise</th>\n",
       "      <th>diagnostico</th>\n",
       "    </tr>\n",
       "  </thead>\n",
       "  <tbody>\n",
       "    <tr>\n",
       "      <th>count</th>\n",
       "      <td>302.000000</td>\n",
       "      <td>302.000000</td>\n",
       "      <td>302.000000</td>\n",
       "      <td>302.000000</td>\n",
       "      <td>302.000000</td>\n",
       "      <td>302.000000</td>\n",
       "      <td>302.000000</td>\n",
       "      <td>302.000000</td>\n",
       "      <td>302.000000</td>\n",
       "      <td>302.000000</td>\n",
       "      <td>302.000000</td>\n",
       "      <td>302.000000</td>\n",
       "    </tr>\n",
       "    <tr>\n",
       "      <th>mean</th>\n",
       "      <td>54.410596</td>\n",
       "      <td>0.678808</td>\n",
       "      <td>3.165563</td>\n",
       "      <td>131.645695</td>\n",
       "      <td>246.738411</td>\n",
       "      <td>0.145695</td>\n",
       "      <td>0.986755</td>\n",
       "      <td>149.605960</td>\n",
       "      <td>0.327815</td>\n",
       "      <td>1.035430</td>\n",
       "      <td>1.596026</td>\n",
       "      <td>0.940397</td>\n",
       "    </tr>\n",
       "    <tr>\n",
       "      <th>std</th>\n",
       "      <td>9.040163</td>\n",
       "      <td>0.467709</td>\n",
       "      <td>0.953612</td>\n",
       "      <td>17.612202</td>\n",
       "      <td>51.856829</td>\n",
       "      <td>0.353386</td>\n",
       "      <td>0.994916</td>\n",
       "      <td>22.912959</td>\n",
       "      <td>0.470196</td>\n",
       "      <td>1.160723</td>\n",
       "      <td>0.611939</td>\n",
       "      <td>1.229384</td>\n",
       "    </tr>\n",
       "    <tr>\n",
       "      <th>min</th>\n",
       "      <td>29.000000</td>\n",
       "      <td>0.000000</td>\n",
       "      <td>1.000000</td>\n",
       "      <td>94.000000</td>\n",
       "      <td>126.000000</td>\n",
       "      <td>0.000000</td>\n",
       "      <td>0.000000</td>\n",
       "      <td>71.000000</td>\n",
       "      <td>0.000000</td>\n",
       "      <td>0.000000</td>\n",
       "      <td>1.000000</td>\n",
       "      <td>0.000000</td>\n",
       "    </tr>\n",
       "    <tr>\n",
       "      <th>25%</th>\n",
       "      <td>48.000000</td>\n",
       "      <td>0.000000</td>\n",
       "      <td>3.000000</td>\n",
       "      <td>120.000000</td>\n",
       "      <td>211.000000</td>\n",
       "      <td>0.000000</td>\n",
       "      <td>0.000000</td>\n",
       "      <td>133.250000</td>\n",
       "      <td>0.000000</td>\n",
       "      <td>0.000000</td>\n",
       "      <td>1.000000</td>\n",
       "      <td>0.000000</td>\n",
       "    </tr>\n",
       "    <tr>\n",
       "      <th>50%</th>\n",
       "      <td>55.500000</td>\n",
       "      <td>1.000000</td>\n",
       "      <td>3.000000</td>\n",
       "      <td>130.000000</td>\n",
       "      <td>241.500000</td>\n",
       "      <td>0.000000</td>\n",
       "      <td>0.500000</td>\n",
       "      <td>153.000000</td>\n",
       "      <td>0.000000</td>\n",
       "      <td>0.800000</td>\n",
       "      <td>2.000000</td>\n",
       "      <td>0.000000</td>\n",
       "    </tr>\n",
       "    <tr>\n",
       "      <th>75%</th>\n",
       "      <td>61.000000</td>\n",
       "      <td>1.000000</td>\n",
       "      <td>4.000000</td>\n",
       "      <td>140.000000</td>\n",
       "      <td>275.000000</td>\n",
       "      <td>0.000000</td>\n",
       "      <td>2.000000</td>\n",
       "      <td>166.000000</td>\n",
       "      <td>1.000000</td>\n",
       "      <td>1.600000</td>\n",
       "      <td>2.000000</td>\n",
       "      <td>2.000000</td>\n",
       "    </tr>\n",
       "    <tr>\n",
       "      <th>max</th>\n",
       "      <td>77.000000</td>\n",
       "      <td>1.000000</td>\n",
       "      <td>4.000000</td>\n",
       "      <td>200.000000</td>\n",
       "      <td>564.000000</td>\n",
       "      <td>1.000000</td>\n",
       "      <td>2.000000</td>\n",
       "      <td>202.000000</td>\n",
       "      <td>1.000000</td>\n",
       "      <td>6.200000</td>\n",
       "      <td>3.000000</td>\n",
       "      <td>4.000000</td>\n",
       "    </tr>\n",
       "  </tbody>\n",
       "</table>\n",
       "</div>"
      ],
      "text/plain": [
       "            idade        sexo  ...  slope_peak_exercise  diagnostico\n",
       "count  302.000000  302.000000  ...           302.000000   302.000000\n",
       "mean    54.410596    0.678808  ...             1.596026     0.940397\n",
       "std      9.040163    0.467709  ...             0.611939     1.229384\n",
       "min     29.000000    0.000000  ...             1.000000     0.000000\n",
       "25%     48.000000    0.000000  ...             1.000000     0.000000\n",
       "50%     55.500000    1.000000  ...             2.000000     0.000000\n",
       "75%     61.000000    1.000000  ...             2.000000     2.000000\n",
       "max     77.000000    1.000000  ...             3.000000     4.000000\n",
       "\n",
       "[8 rows x 12 columns]"
      ]
     },
     "execution_count": 8,
     "metadata": {
      "tags": []
     },
     "output_type": "execute_result"
    }
   ],
   "source": [
    "dat_df.describe()"
   ]
  },
  {
   "cell_type": "code",
   "execution_count": 21,
   "metadata": {
    "colab": {
     "base_uri": "https://localhost:8080/"
    },
    "id": "R3-nsMVFiCAc",
    "outputId": "84e90d07-783d-4668-df23-85435c229398"
   },
   "outputs": [
    {
     "name": "stdout",
     "output_type": "stream",
     "text": [
      "<class 'pandas.core.frame.DataFrame'>\n",
      "RangeIndex: 302 entries, 0 to 301\n",
      "Data columns (total 14 columns):\n",
      " #   Column               Non-Null Count  Dtype  \n",
      "---  ------               --------------  -----  \n",
      " 0   idade                302 non-null    float64\n",
      " 1   sexo                 302 non-null    float64\n",
      " 2   dor                  302 non-null    float64\n",
      " 3   pressão_sanguinea    302 non-null    float64\n",
      " 4   colesterol           302 non-null    float64\n",
      " 5   glicose              302 non-null    float64\n",
      " 6   ecg_em_repouso       302 non-null    float64\n",
      " 7   freq_card_max        302 non-null    float64\n",
      " 8   dor_causada_exer     302 non-null    float64\n",
      " 9   oldpeak              302 non-null    float64\n",
      " 10  slope_peak_exercise  302 non-null    float64\n",
      " 11  major_vessels        302 non-null    object \n",
      " 12  thal                 302 non-null    object \n",
      " 13  diagnostico          302 non-null    int64  \n",
      "dtypes: float64(11), int64(1), object(2)\n",
      "memory usage: 33.2+ KB\n"
     ]
    }
   ],
   "source": [
    "dat_df.info()"
   ]
  },
  {
   "cell_type": "code",
   "execution_count": 22,
   "metadata": {
    "colab": {
     "base_uri": "https://localhost:8080/"
    },
    "id": "pSLsNqhaiIxa",
    "outputId": "910a4874-c9ef-4908-a050-807966f18fd5"
   },
   "outputs": [
    {
     "name": "stdout",
     "output_type": "stream",
     "text": [
      "idade                  0\n",
      "sexo                   0\n",
      "dor                    0\n",
      "pressão_sanguinea      0\n",
      "colesterol             0\n",
      "glicose                0\n",
      "ecg_em_repouso         0\n",
      "freq_card_max          0\n",
      "dor_causada_exer       0\n",
      "oldpeak                0\n",
      "slope_peak_exercise    0\n",
      "major_vessels          4\n",
      "thal                   2\n",
      "diagnostico            0\n",
      "dtype: int64\n"
     ]
    },
    {
     "name": "stderr",
     "output_type": "stream",
     "text": [
      "C:\\Users\\analu\\anaconda3\\lib\\site-packages\\pandas\\core\\ops\\array_ops.py:253: FutureWarning: elementwise comparison failed; returning scalar instead, but in the future will perform elementwise comparison\n",
      "  res_values = method(rvalues)\n"
     ]
    }
   ],
   "source": [
    "# Verificando dados ausentes:\n",
    "ausentes = (dat_df[dat_df.columns] == '?').sum()\n",
    "print(ausentes)"
   ]
  },
  {
   "cell_type": "markdown",
   "metadata": {
    "id": "ZrGdBPlfOIHd"
   },
   "source": [
    "# Tratamento dos Dados:"
   ]
  },
  {
   "cell_type": "code",
   "execution_count": 23,
   "metadata": {
    "id": "z5rUTUdEkol5"
   },
   "outputs": [],
   "source": [
    "dat_df[dat_df.columns] = dat_df[dat_df.columns].replace('?', np.nan)\n",
    "dat_df.dropna(axis = 0, inplace = True)"
   ]
  },
  {
   "cell_type": "code",
   "execution_count": 24,
   "metadata": {
    "colab": {
     "base_uri": "https://localhost:8080/"
    },
    "id": "UMzULPwqkyQX",
    "outputId": "986e2eaf-3d40-45d1-a238-e45a9ad3d07b"
   },
   "outputs": [
    {
     "name": "stdout",
     "output_type": "stream",
     "text": [
      "idade                  0\n",
      "sexo                   0\n",
      "dor                    0\n",
      "pressão_sanguinea      0\n",
      "colesterol             0\n",
      "glicose                0\n",
      "ecg_em_repouso         0\n",
      "freq_card_max          0\n",
      "dor_causada_exer       0\n",
      "oldpeak                0\n",
      "slope_peak_exercise    0\n",
      "major_vessels          0\n",
      "thal                   0\n",
      "diagnostico            0\n",
      "dtype: int64\n"
     ]
    }
   ],
   "source": [
    "ausentes = (dat_df[dat_df.columns] == 'Nan').sum()\n",
    "print(ausentes)"
   ]
  },
  {
   "cell_type": "code",
   "execution_count": 25,
   "metadata": {
    "colab": {
     "base_uri": "https://localhost:8080/"
    },
    "id": "AErgC5ailWW9",
    "outputId": "32c34fea-a7ad-4760-ebb2-69af88267d77"
   },
   "outputs": [
    {
     "name": "stdout",
     "output_type": "stream",
     "text": [
      "<class 'pandas.core.frame.DataFrame'>\n",
      "Int64Index: 296 entries, 0 to 300\n",
      "Data columns (total 14 columns):\n",
      " #   Column               Non-Null Count  Dtype  \n",
      "---  ------               --------------  -----  \n",
      " 0   idade                296 non-null    float64\n",
      " 1   sexo                 296 non-null    float64\n",
      " 2   dor                  296 non-null    float64\n",
      " 3   pressão_sanguinea    296 non-null    float64\n",
      " 4   colesterol           296 non-null    float64\n",
      " 5   glicose              296 non-null    float64\n",
      " 6   ecg_em_repouso       296 non-null    float64\n",
      " 7   freq_card_max        296 non-null    float64\n",
      " 8   dor_causada_exer     296 non-null    float64\n",
      " 9   oldpeak              296 non-null    float64\n",
      " 10  slope_peak_exercise  296 non-null    float64\n",
      " 11  major_vessels        296 non-null    object \n",
      " 12  thal                 296 non-null    object \n",
      " 13  diagnostico          296 non-null    int64  \n",
      "dtypes: float64(11), int64(1), object(2)\n",
      "memory usage: 34.7+ KB\n"
     ]
    }
   ],
   "source": [
    "dat_df.info()"
   ]
  },
  {
   "cell_type": "code",
   "execution_count": 26,
   "metadata": {
    "colab": {
     "base_uri": "https://localhost:8080/"
    },
    "id": "yHqURwU4OOyT",
    "outputId": "eb3def7b-90bb-4c94-ca9a-f32ee8262ce0"
   },
   "outputs": [
    {
     "data": {
      "text/plain": [
       "array([2, 1, 0, 3, 4], dtype=int64)"
      ]
     },
     "execution_count": 26,
     "metadata": {},
     "output_type": "execute_result"
    }
   ],
   "source": [
    "# Verificando os resultados possíveis para o diagnóstico:\n",
    "dat_df['diagnostico'].unique()"
   ]
  },
  {
   "cell_type": "markdown",
   "metadata": {
    "id": "o6gL1vOTOr__"
   },
   "source": [
    "# Criação dos Clusters"
   ]
  },
  {
   "cell_type": "markdown",
   "metadata": {
    "id": "sO7QUrcYS3yo"
   },
   "source": [
    "### Agrupamento Hierarquico"
   ]
  },
  {
   "cell_type": "code",
   "execution_count": 27,
   "metadata": {
    "id": "dxDGDzvBlpvS"
   },
   "outputs": [],
   "source": [
    "#Biblioteca:\n",
    "from scipy.cluster.hierarchy import linkage, dendrogram\n",
    "from sklearn.preprocessing import normalize\n",
    "\n",
    "# Duplicação do documento para utilizar no Dendograma:\n",
    "dat_den = dat_df.copy()\n",
    "\n",
    "# Variavel para normalização\n",
    "dat_den_norm = normalize(dat_den)"
   ]
  },
  {
   "cell_type": "code",
   "execution_count": 28,
   "metadata": {
    "colab": {
     "base_uri": "https://localhost:8080/",
     "height": 224
    },
    "id": "cBDrllpKS9dz",
    "outputId": "8ef9d6c1-2de2-4a84-ba52-fb0a7ed39129"
   },
   "outputs": [
    {
     "data": {
      "text/html": [
       "<div>\n",
       "<style scoped>\n",
       "    .dataframe tbody tr th:only-of-type {\n",
       "        vertical-align: middle;\n",
       "    }\n",
       "\n",
       "    .dataframe tbody tr th {\n",
       "        vertical-align: top;\n",
       "    }\n",
       "\n",
       "    .dataframe thead th {\n",
       "        text-align: right;\n",
       "    }\n",
       "</style>\n",
       "<table border=\"1\" class=\"dataframe\">\n",
       "  <thead>\n",
       "    <tr style=\"text-align: right;\">\n",
       "      <th></th>\n",
       "      <th>idade</th>\n",
       "      <th>sexo</th>\n",
       "      <th>dor</th>\n",
       "      <th>pressão_sanguinea</th>\n",
       "      <th>colesterol</th>\n",
       "      <th>glicose</th>\n",
       "      <th>ecg_em_repouso</th>\n",
       "      <th>freq_card_max</th>\n",
       "      <th>dor_causada_exer</th>\n",
       "      <th>oldpeak</th>\n",
       "      <th>slope_peak_exercise</th>\n",
       "      <th>major_vessels</th>\n",
       "      <th>thal</th>\n",
       "      <th>diagnostico</th>\n",
       "    </tr>\n",
       "  </thead>\n",
       "  <tbody>\n",
       "    <tr>\n",
       "      <th>0</th>\n",
       "      <td>67.0</td>\n",
       "      <td>1.0</td>\n",
       "      <td>4.0</td>\n",
       "      <td>160.0</td>\n",
       "      <td>286.0</td>\n",
       "      <td>0.0</td>\n",
       "      <td>2.0</td>\n",
       "      <td>108.0</td>\n",
       "      <td>1.0</td>\n",
       "      <td>1.5</td>\n",
       "      <td>2.0</td>\n",
       "      <td>3.0</td>\n",
       "      <td>3.0</td>\n",
       "      <td>2</td>\n",
       "    </tr>\n",
       "    <tr>\n",
       "      <th>1</th>\n",
       "      <td>67.0</td>\n",
       "      <td>1.0</td>\n",
       "      <td>4.0</td>\n",
       "      <td>120.0</td>\n",
       "      <td>229.0</td>\n",
       "      <td>0.0</td>\n",
       "      <td>2.0</td>\n",
       "      <td>129.0</td>\n",
       "      <td>1.0</td>\n",
       "      <td>2.6</td>\n",
       "      <td>2.0</td>\n",
       "      <td>2.0</td>\n",
       "      <td>7.0</td>\n",
       "      <td>1</td>\n",
       "    </tr>\n",
       "    <tr>\n",
       "      <th>2</th>\n",
       "      <td>37.0</td>\n",
       "      <td>1.0</td>\n",
       "      <td>3.0</td>\n",
       "      <td>130.0</td>\n",
       "      <td>250.0</td>\n",
       "      <td>0.0</td>\n",
       "      <td>0.0</td>\n",
       "      <td>187.0</td>\n",
       "      <td>0.0</td>\n",
       "      <td>3.5</td>\n",
       "      <td>3.0</td>\n",
       "      <td>0.0</td>\n",
       "      <td>3.0</td>\n",
       "      <td>0</td>\n",
       "    </tr>\n",
       "    <tr>\n",
       "      <th>3</th>\n",
       "      <td>41.0</td>\n",
       "      <td>0.0</td>\n",
       "      <td>2.0</td>\n",
       "      <td>130.0</td>\n",
       "      <td>204.0</td>\n",
       "      <td>0.0</td>\n",
       "      <td>2.0</td>\n",
       "      <td>172.0</td>\n",
       "      <td>0.0</td>\n",
       "      <td>1.4</td>\n",
       "      <td>1.0</td>\n",
       "      <td>0.0</td>\n",
       "      <td>3.0</td>\n",
       "      <td>0</td>\n",
       "    </tr>\n",
       "    <tr>\n",
       "      <th>4</th>\n",
       "      <td>56.0</td>\n",
       "      <td>1.0</td>\n",
       "      <td>2.0</td>\n",
       "      <td>120.0</td>\n",
       "      <td>236.0</td>\n",
       "      <td>0.0</td>\n",
       "      <td>0.0</td>\n",
       "      <td>178.0</td>\n",
       "      <td>0.0</td>\n",
       "      <td>0.8</td>\n",
       "      <td>1.0</td>\n",
       "      <td>0.0</td>\n",
       "      <td>3.0</td>\n",
       "      <td>0</td>\n",
       "    </tr>\n",
       "  </tbody>\n",
       "</table>\n",
       "</div>"
      ],
      "text/plain": [
       "   idade  sexo  dor  pressão_sanguinea  colesterol  glicose  ecg_em_repouso  \\\n",
       "0   67.0   1.0  4.0              160.0       286.0      0.0             2.0   \n",
       "1   67.0   1.0  4.0              120.0       229.0      0.0             2.0   \n",
       "2   37.0   1.0  3.0              130.0       250.0      0.0             0.0   \n",
       "3   41.0   0.0  2.0              130.0       204.0      0.0             2.0   \n",
       "4   56.0   1.0  2.0              120.0       236.0      0.0             0.0   \n",
       "\n",
       "   freq_card_max  dor_causada_exer  oldpeak  slope_peak_exercise  \\\n",
       "0          108.0               1.0      1.5                  2.0   \n",
       "1          129.0               1.0      2.6                  2.0   \n",
       "2          187.0               0.0      3.5                  3.0   \n",
       "3          172.0               0.0      1.4                  1.0   \n",
       "4          178.0               0.0      0.8                  1.0   \n",
       "\n",
       "  major_vessels thal  diagnostico  \n",
       "0           3.0  3.0            2  \n",
       "1           2.0  7.0            1  \n",
       "2           0.0  3.0            0  \n",
       "3           0.0  3.0            0  \n",
       "4           0.0  3.0            0  "
      ]
     },
     "execution_count": 28,
     "metadata": {},
     "output_type": "execute_result"
    }
   ],
   "source": [
    "dat_den.head()"
   ]
  },
  {
   "cell_type": "code",
   "execution_count": 30,
   "metadata": {
    "colab": {
     "base_uri": "https://localhost:8080/",
     "height": 899
    },
    "id": "tjp_netrTxm-",
    "outputId": "98a25d0f-615c-4a52-99f5-77fc380c0a6f"
   },
   "outputs": [
    {
     "data": {
      "image/png": "[encoded data removed]",
      "text/plain": [
       "<Figure size 1800x1080 with 1 Axes>"
      ]
     },
     "metadata": {
      "needs_background": "light"
     },
     "output_type": "display_data"
    }
   ],
   "source": [
    "#Árvore de decisão:\n",
    "mesclagens = linkage(dat_den_norm, method='complete')\n",
    "eixo_x = list(dat_den.index)\n",
    "_ = fig, ax = plt.subplots(figsize=(25,15))\n",
    "_ = dendrogram(mesclagens, leaf_font_size=12, labels=eixo_x, ax=ax)\n",
    "_ = plt.xticks(rotation=90)\n",
    "_ = ax.set_ylabel('Distancia')"
   ]
  },
  {
   "cell_type": "markdown",
   "metadata": {
    "id": "J64iclZ7SyEJ"
   },
   "source": [
    "### KMeans"
   ]
  },
  {
   "cell_type": "code",
   "execution_count": 31,
   "metadata": {
    "colab": {
     "base_uri": "https://localhost:8080/"
    },
    "id": "k599jUm1QNGZ",
    "outputId": "bfef9f76-27ae-4849-81d9-3b552577976b"
   },
   "outputs": [
    {
     "data": {
      "text/plain": [
       "array([[67.0, 1.0, 4.0, ..., 2.0, '3.0', '3.0'],\n",
       "       [67.0, 1.0, 4.0, ..., 2.0, '2.0', '7.0'],\n",
       "       [37.0, 1.0, 3.0, ..., 3.0, '0.0', '3.0'],\n",
       "       ...,\n",
       "       [68.0, 1.0, 4.0, ..., 2.0, '2.0', '7.0'],\n",
       "       [57.0, 1.0, 4.0, ..., 2.0, '1.0', '7.0'],\n",
       "       [57.0, 0.0, 2.0, ..., 2.0, '1.0', '3.0']], dtype=object)"
      ]
     },
     "execution_count": 31,
     "metadata": {},
     "output_type": "execute_result"
    }
   ],
   "source": [
    "#tranformar em matriz para podermos montar os gráficos:\n",
    "dat = dat_df.iloc[:,:-1].values\n",
    "dat_matriz = dat.copy()\n",
    "dat"
   ]
  },
  {
   "cell_type": "code",
   "execution_count": 32,
   "metadata": {
    "id": "7eR5sNsoOnyl"
   },
   "outputs": [],
   "source": [
    "from sklearn.cluster import KMeans\n",
    "\n",
    "kmeans = KMeans(n_clusters=5, random_state=42, init='k-means++')\n",
    "y_kmeans = kmeans.fit_predict(dat)"
   ]
  },
  {
   "cell_type": "code",
   "execution_count": 33,
   "metadata": {
    "colab": {
     "base_uri": "https://localhost:8080/"
    },
    "id": "_t72m_FRO5Kf",
    "outputId": "926e6f30-bd89-4ece-ed28-8e616a772107"
   },
   "outputs": [
    {
     "data": {
      "text/plain": [
       "array([0, 0, 1, 3, 1, 1, 2, 1, 3, 3, 2, 0, 1, 3, 3, 1, 1, 0, 1, 3, 2, 2,\n",
       "       1, 3, 1, 2, 0, 1, 3, 1, 1, 2, 1, 1, 1, 3, 0, 2, 0, 0, 3, 2, 3, 2,\n",
       "       1, 3, 0, 4, 3, 3, 3, 2, 1, 0, 0, 1, 3, 1, 3, 2, 3, 3, 2, 3, 2, 3,\n",
       "       1, 2, 1, 0, 1, 0, 1, 3, 2, 0, 2, 1, 0, 3, 0, 2, 0, 2, 1, 1, 1, 1,\n",
       "       2, 3, 1, 3, 1, 1, 1, 1, 3, 1, 1, 3, 2, 0, 3, 2, 3, 1, 0, 3, 2, 1,\n",
       "       3, 2, 0, 3, 3, 3, 2, 0, 1, 4, 1, 0, 2, 1, 0, 0, 1, 3, 1, 1, 1, 1,\n",
       "       3, 1, 3, 0, 3, 1, 1, 2, 3, 2, 1, 1, 0, 1, 2, 2, 2, 0, 4, 2, 0, 2,\n",
       "       2, 2, 2, 2, 3, 2, 3, 0, 1, 3, 2, 2, 3, 0, 0, 0, 4, 3, 0, 1, 3, 2,\n",
       "       1, 1, 4, 1, 0, 2, 3, 1, 0, 2, 0, 3, 2, 0, 3, 2, 0, 1, 1, 0, 1, 2,\n",
       "       3, 2, 3, 2, 0, 3, 1, 1, 1, 1, 1, 1, 1, 3, 3, 1, 2, 1, 1, 1, 3, 0,\n",
       "       1, 1, 3, 2, 3, 3, 3, 2, 3, 0, 3, 0, 0, 1, 1, 2, 1, 2, 1, 1, 3, 0,\n",
       "       1, 0, 3, 3, 3, 0, 0, 2, 2, 3, 1, 3, 0, 0, 1, 2, 1, 1, 3, 2, 3, 1,\n",
       "       3, 3, 0, 2, 3, 3, 1, 2, 1, 1, 3, 2, 1, 3, 3, 3, 2, 1, 1, 1, 3, 2,\n",
       "       3, 3, 3, 3, 3, 0, 0, 3, 3, 1])"
      ]
     },
     "execution_count": 33,
     "metadata": {},
     "output_type": "execute_result"
    }
   ],
   "source": [
    "y_kmeans"
   ]
  },
  {
   "cell_type": "code",
   "execution_count": 34,
   "metadata": {
    "colab": {
     "base_uri": "https://localhost:8080/"
    },
    "id": "flLqrp5EPDbK",
    "outputId": "f69b97c1-e19c-4d34-e2af-f2436d124861"
   },
   "outputs": [
    {
     "data": {
      "text/plain": [
       "Counter({0: 53, 1: 93, 3: 84, 2: 61, 4: 5})"
      ]
     },
     "execution_count": 34,
     "metadata": {},
     "output_type": "execute_result"
    }
   ],
   "source": [
    "# contagem:\n",
    "from collections import Counter\n",
    "\n",
    "Counter(kmeans.labels_)"
   ]
  },
  {
   "cell_type": "code",
   "execution_count": 35,
   "metadata": {
    "colab": {
     "base_uri": "https://localhost:8080/"
    },
    "id": "pgwqrCY3PLw2",
    "outputId": "a4d47f72-81b2-471a-e6aa-dd70a7ca74b7"
   },
   "outputs": [
    {
     "data": {
      "text/plain": [
       "True"
      ]
     },
     "execution_count": 35,
     "metadata": {},
     "output_type": "execute_result"
    }
   ],
   "source": [
    "y_kmeans is kmeans.labels_\n",
    "\n",
    "## as labels foram preservadas"
   ]
  },
  {
   "cell_type": "code",
   "execution_count": 36,
   "metadata": {
    "id": "7e2jIb62PV-E"
   },
   "outputs": [],
   "source": [
    "centroids = kmeans.cluster_centers_\n",
    "centroids_x = centroids[:, 0]\n",
    "centroids_y = centroids[:, 4]"
   ]
  },
  {
   "cell_type": "code",
   "execution_count": 37,
   "metadata": {
    "colab": {
     "base_uri": "https://localhost:8080/",
     "height": 485
    },
    "id": "3bF4LFGpPcQS",
    "outputId": "fa7f096b-75cc-43f5-934d-711fff49eb43"
   },
   "outputs": [
    {
     "data": {
      "image/png": "[encoded data removed]",
      "text/plain": [
       "<Figure size 1440x1080 with 1 Axes>"
      ]
     },
     "metadata": {},
     "output_type": "display_data"
    }
   ],
   "source": [
    "sns.set()\n",
    "plt.figure(figsize=(20,15))\n",
    "\n",
    "_ = plt.scatter(centroids_x, centroids_y, c='black', marker='x', s=100)\n",
    "\n",
    "plt.scatter(dat[y_kmeans == 0, 0], dat[y_kmeans == 0, 4], s = 50, c = 'magenta', alpha=0.8)\n",
    "plt.scatter(dat[y_kmeans == 1, 0], dat[y_kmeans == 1, 4], s = 50, c = 'orange', alpha=0.3)\n",
    "plt.scatter(dat[y_kmeans == 2, 0], dat[y_kmeans == 2, 4], s = 50, c = 'purple', alpha=0.5)\n",
    "plt.scatter(dat[y_kmeans == 3, 0], dat[y_kmeans == 3, 4], s = 50, c = 'blue', alpha=0.5)\n",
    "plt.scatter(dat[y_kmeans == 4, 0], dat[y_kmeans == 4, 4], s = 50, c = 'red', alpha=0.5)\n",
    "plt.title('Probabilidade de desenvolvimento de doenças cardíacas', fontsize=16)\n",
    "plt.xlabel('Idade', fontsize=10)\n",
    "plt.ylabel('Colesterol', fontsize=10)\n",
    "plt.show()\n"
   ]
  },
  {
   "cell_type": "code",
   "execution_count": 38,
   "metadata": {
    "colab": {
     "base_uri": "https://localhost:8080/"
    },
    "id": "3EX-6biIRvuI",
    "outputId": "cff9b377-c53f-4c5a-b0e8-bcaa6e953854"
   },
   "outputs": [
    {
     "name": "stdout",
     "output_type": "stream",
     "text": [
      "diagnostico   0   1   2   3  4\n",
      "Grupos                        \n",
      "0            15  14  10  11  3\n",
      "1            63  15   6   7  2\n",
      "2            29  13  10   6  3\n",
      "3            49  12   8  11  4\n",
      "4             3   0   1   0  1\n"
     ]
    }
   ],
   "source": [
    "# Comparação:\n",
    "\n",
    "df = pd.DataFrame({'Grupos': y_kmeans, 'diagnostico': dat_df['diagnostico']})\n",
    "ct = pd.crosstab(df['Grupos'], df['diagnostico'])\n",
    "print(ct)"
   ]
  },
  {
   "cell_type": "code",
   "execution_count": 45,
   "metadata": {
    "colab": {
     "base_uri": "https://localhost:8080/",
     "height": 304
    },
    "id": "pFI01ZSCR_9-",
    "outputId": "4769148b-6204-4c1b-ac51-fa06179d8e7d"
   },
   "outputs": [
    {
     "data": {
      "image/png": "[encoded data removed]",
      "text/plain": [
       "<Figure size 432x288 with 1 Axes>"
      ]
     },
     "metadata": {},
     "output_type": "display_data"
    }
   ],
   "source": [
    "ks = range(1, 9)\n",
    "inercias = []\n",
    "\n",
    "for k in ks:\n",
    "    modelo = KMeans(n_clusters=k)\n",
    "    modelo.fit(dat)\n",
    "    inercias.append(modelo.inertia_)\n",
    "\n",
    "_ = plt.plot(ks, inercias)\n",
    "_ = plt.title('Inércias', fontsize=15)\n",
    "_ = plt.xlabel('k')\n",
    "_ = plt.ylabel('Inercia')\n",
    "_ = plt.xticks(ks)"
   ]
  },
  {
   "cell_type": "code",
   "execution_count": 41,
   "metadata": {
    "colab": {
     "base_uri": "https://localhost:8080/"
    },
    "id": "lyYigM4wSSsO",
    "outputId": "66653d33-dcc4-4f2a-815c-0074b85168e0"
   },
   "outputs": [
    {
     "data": {
      "text/plain": [
       "[0.3855571899577006,\n",
       " 0.2835256449341491,\n",
       " 0.28004212148554514,\n",
       " 0.28049019348123466,\n",
       " 0.2476726113737105,\n",
       " 0.2543732378446095,\n",
       " 0.24770803614920317,\n",
       " 0.2594265828459429]"
      ]
     },
     "execution_count": 41,
     "metadata": {},
     "output_type": "execute_result"
    }
   ],
   "source": [
    "#Análise da silhueta dos clusters do KMeans\n",
    "#Biblioteca:\n",
    "from sklearn.metrics import silhouette_score\n",
    "\n",
    "kmeans_per_k = [KMeans(n_clusters=k, random_state=42).fit(dat) for k in range(1, 10)]\n",
    "silhouette_scores = [silhouette_score(dat, modelo.labels_) for modelo in kmeans_per_k[1:]]\n",
    "\n",
    "silhouette_scores"
   ]
  },
  {
   "cell_type": "code",
   "execution_count": 48,
   "metadata": {
    "colab": {
     "base_uri": "https://localhost:8080/",
     "height": 250
    },
    "id": "GvgWMl_KSlf4",
    "outputId": "e9c6cc82-1dd4-4fd9-d1eb-ccb27ef25106"
   },
   "outputs": [
    {
     "data": {
      "image/png": "[encoded data removed]",
      "text/plain": [
       "<Figure size 576x216 with 1 Axes>"
      ]
     },
     "metadata": {},
     "output_type": "display_data"
    }
   ],
   "source": [
    "plt.figure(figsize=(8, 3))\n",
    "plt.plot(range(2, 10), silhouette_scores)\n",
    "plt.title('Análise da silhueta', fontsize=15)\n",
    "plt.xlabel(\"k\")\n",
    "plt.ylabel(\"Score\")\n",
    "plt.show()"
   ]
  },
  {
   "cell_type": "markdown",
   "metadata": {
    "id": "HNbF8xy9SpdB"
   },
   "source": [
    "### DBSCAN\n"
   ]
  },
  {
   "cell_type": "code",
   "execution_count": 49,
   "metadata": {
    "colab": {
     "base_uri": "https://localhost:8080/"
    },
    "id": "ACFNF3NtUyRO",
    "outputId": "fcd5d397-d019-425c-9655-84524792c24a"
   },
   "outputs": [
    {
     "data": {
      "text/plain": [
       "array([ 2,  0,  0,  0,  0,  0,  0,  0,  0,  0,  0,  0,  0,  0,  0,  0,  0,\n",
       "        0,  0,  0,  0,  0,  0,  0,  0,  0,  0,  0,  1,  0,  0,  0,  0,  0,\n",
       "        0,  1,  2, -1,  0,  0,  0, -1,  0,  0,  0,  1,  0,  4,  0,  0,  0,\n",
       "        0,  0,  0,  3,  0,  0,  0,  0,  0,  0,  0,  0,  1,  0,  0,  0, -1,\n",
       "        0,  0,  0,  3,  0,  0, -1,  0,  0,  0,  2,  0,  0, -1, -1,  0,  0,\n",
       "        0,  0,  0,  0, -1,  0, -1,  0,  0,  0,  0,  0,  0,  0,  0,  0,  0,\n",
       "        0,  0,  0,  0,  0,  0,  0,  0, -1, -1,  3,  0,  0,  0, -1,  0,  0,\n",
       "        4,  0,  0,  0,  0, -1,  0,  0,  0,  0,  0, -1,  0,  0,  0, -1,  3,\n",
       "        0,  0,  0, -1,  0,  0,  0,  0,  2,  0,  0,  0,  0,  3, -1,  0, -1,\n",
       "       -1,  0,  0,  0,  0,  0,  0,  0,  0,  0,  0,  0,  0,  0,  2,  0, -1,\n",
       "        4,  0, -1,  0,  1,  0,  0,  0,  4,  0, -1, -1,  0,  0,  0, -1,  0,\n",
       "        0,  0,  3,  0, -1,  0,  0,  0,  2,  0, -1, -1,  0,  0,  0,  0,  0,\n",
       "        0,  0,  0,  0,  0, -1,  0,  0,  0,  0,  0,  0,  0,  0,  0,  3,  0,\n",
       "        0,  0,  0,  0,  0,  0, -1, -1, -1,  0,  3,  3,  0,  0,  0,  0,  0,\n",
       "        0,  0, -1, -1,  0,  3,  0,  0,  0,  0,  3,  0,  0,  0,  0, -1,  0,\n",
       "        0,  0,  0,  0,  0, -1, -1,  0,  0,  0,  0,  0, -1, -1,  0, -1,  0,\n",
       "        0,  0,  0, -1,  0,  0,  0,  0,  0,  0,  0,  0,  0,  0,  0,  0,  0,\n",
       "       -1, -1,  0,  3,  0, -1,  0], dtype=int64)"
      ]
     },
     "execution_count": 49,
     "metadata": {},
     "output_type": "execute_result"
    }
   ],
   "source": [
    "#Biblioteca:\n",
    "from sklearn.cluster import DBSCAN\n",
    "\n",
    "#Variáveis:\n",
    "dbscan = DBSCAN(eps=20, min_samples=4)\n",
    "clusters = dbscan.fit_predict(dat_matriz)\n",
    "clusters"
   ]
  },
  {
   "cell_type": "code",
   "execution_count": 50,
   "metadata": {
    "colab": {
     "base_uri": "https://localhost:8080/",
     "height": 468
    },
    "id": "WxqgG2QNU_wj",
    "outputId": "295163f2-5dc5-4b5d-b253-adfb09324a39"
   },
   "outputs": [
    {
     "data": {
      "image/png": "[encoded data removed]",
      "text/plain": [
       "<Figure size 1440x1080 with 1 Axes>"
      ]
     },
     "metadata": {},
     "output_type": "display_data"
    }
   ],
   "source": [
    "sns.set()\n",
    "plt.figure(figsize=(20, 15))\n",
    "\n",
    "plt.scatter(dat_matriz[clusters == 0, 0], dat_matriz[clusters == 0, 4], s = 50, c = 'darkBlue', alpha=0.8)\n",
    "plt.scatter(dat_matriz[clusters == 1, 0], dat_matriz[clusters == 1, 4], s = 50, c = 'magenta', alpha=0.8)\n",
    "plt.scatter(dat_matriz[clusters == 2, 0], dat_matriz[clusters == 2, 4], s = 50, c = 'red', alpha=0.8)\n",
    "plt.scatter(dat_matriz[clusters == 3, 0], dat_matriz[clusters == 3, 4], s = 50, c = 'orange', alpha=0.8)\n",
    "plt.scatter(dat_matriz[clusters == 4, 0], dat_matriz[clusters == 4, 4], s = 50, c = 'yellow', alpha=0.8)\n",
    "\n",
    "plt.title('Probabilidade de desenvolvimento de doenças cardíacas', fontsize=15)\n",
    "plt.xlabel('Idade', fontsize=10)\n",
    "plt.ylabel('Colesterol', fontsize=10)\n",
    "plt.show()"
   ]
  }
 ],
 "metadata": {
  "colab": {
   "collapsed_sections": [],
   "name": "atividade_final_b.ipynb",
   "provenance": []
  },
  "kernelspec": {
   "display_name": "Python 3",
   "language": "python",
   "name": "python3"
  },
  "language_info": {
   "codemirror_mode": {
    "name": "ipython",
    "version": 3
   },
   "file_extension": ".py",
   "mimetype": "text/x-python",
   "name": "python",
   "nbconvert_exporter": "python",
   "pygments_lexer": "ipython3",
   "version": "3.7.6"
  }
 },
 "nbformat": 4,
 "nbformat_minor": 1
}
